{
 "cells": [
  {
   "cell_type": "markdown",
   "id": "597e7eb4",
   "metadata": {},
   "source": [
    "## Importing necessary libraries, Initializing the spark session and Loading the dataset :\n",
    "----"
   ]
  },
  {
   "cell_type": "code",
   "execution_count": 56,
   "id": "cfc641aa",
   "metadata": {},
   "outputs": [],
   "source": [
    "from pyspark.sql import SparkSession\n",
    "from pyspark.sql.functions import *\n",
    "\n",
    "spark = SparkSession.builder \\\n",
    "    .master(\"local\") \\\n",
    "    .appName(\"Exercise1\") \\\n",
    "    .getOrCreate()\n",
    "\n",
    "df = spark.read.format('org.apache.spark.sql.json') \\\n",
    "        .load(\"icc_results.json\")"
   ]
  },
  {
   "cell_type": "markdown",
   "id": "52861861",
   "metadata": {},
   "source": [
    "## Creating a tally of matches played by each team :\n",
    "----"
   ]
  },
  {
   "cell_type": "code",
   "execution_count": 57,
   "id": "d04bb647",
   "metadata": {},
   "outputs": [
    {
     "name": "stdout",
     "output_type": "stream",
     "text": [
      "+---------+--------------------+\n",
      "| fullName|Total Matches Played|\n",
      "+---------+--------------------+\n",
      "|    India|                 463|\n",
      "|  England|                 443|\n",
      "|Australia|                 439|\n",
      "+---------+--------------------+\n",
      "only showing top 3 rows\n",
      "\n"
     ]
    }
   ],
   "source": [
    "teamA= df.select(\"scheduleEntry.team1.team.fullName\").groupBy('fullName').count()\\\n",
    ".orderBy(['fullName'], ascending = [False]).dropna().withColumnRenamed(\"count\",\"CountA\")\n",
    "\n",
    "teamB= df.select(\"scheduleEntry.team2.team.fullName\").groupBy('fullName').count()\\\n",
    ".orderBy(['fullName'], ascending = [False]).dropna().withColumnRenamed(\"count\",\"CountB\")\n",
    "\n",
    "finaldf = teamA.join(teamB,\"fullName\")\n",
    "finaldf = finaldf.withColumn('Total Matches Played', finaldf.CountA + finaldf.CountB).drop('CountA','CountB')\\\n",
    ".orderBy(['Total Matches Played'], ascending = [False])\n",
    "\n",
    "finaldf.show(3)\n"
   ]
  },
  {
   "cell_type": "markdown",
   "id": "3b3abaa7",
   "metadata": {},
   "source": [
    "## Finding team that has played the most matches\n",
    "-----"
   ]
  },
  {
   "cell_type": "code",
   "execution_count": 53,
   "id": "c8f95c2f",
   "metadata": {},
   "outputs": [
    {
     "name": "stdout",
     "output_type": "stream",
     "text": [
      "The most number of matches were played by India : 463\n"
     ]
    }
   ],
   "source": [
    "print('The most number of matches were played by {}'.format(finaldf.collect()[0][0]),':',finaldf.collect()[0][1])"
   ]
  }
 ],
 "metadata": {
  "kernelspec": {
   "display_name": "Python 3 (ipykernel)",
   "language": "python",
   "name": "python3"
  },
  "language_info": {
   "codemirror_mode": {
    "name": "ipython",
    "version": 3
   },
   "file_extension": ".py",
   "mimetype": "text/x-python",
   "name": "python",
   "nbconvert_exporter": "python",
   "pygments_lexer": "ipython3",
   "version": "3.9.13"
  }
 },
 "nbformat": 4,
 "nbformat_minor": 5
}
