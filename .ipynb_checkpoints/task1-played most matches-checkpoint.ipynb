{
 "cells": [
  {
   "cell_type": "markdown",
   "id": "597e7eb4",
   "metadata": {},
   "source": [
    "## Importing necessary libraries\n",
    "----"
   ]
  },
  {
   "cell_type": "code",
   "execution_count": 140,
   "id": "cfc641aa",
   "metadata": {},
   "outputs": [],
   "source": [
    "from pyspark.sql import SparkSession\n",
    "from pyspark.sql.functions import *"
   ]
  },
  {
   "cell_type": "markdown",
   "id": "3b6eae35",
   "metadata": {},
   "source": [
    "## Initializing Spark session :\n",
    "-------"
   ]
  },
  {
   "cell_type": "code",
   "execution_count": 141,
   "id": "25535350",
   "metadata": {},
   "outputs": [],
   "source": [
    "#   Initialize the Spark session\n",
    "spark = SparkSession.builder \\\n",
    "    .master(\"local\") \\\n",
    "    .appName(\"Exercise1\") \\\n",
    "    .getOrCreate()"
   ]
  },
  {
   "cell_type": "markdown",
   "id": "5a57d3be",
   "metadata": {},
   "source": [
    "## Loading the dataset :\n",
    "---"
   ]
  },
  {
   "cell_type": "code",
   "execution_count": 142,
   "id": "089c81f3",
   "metadata": {},
   "outputs": [],
   "source": [
    "df = spark.read.format('org.apache.spark.sql.json') \\\n",
    "        .load(\"icc_results.json\")"
   ]
  },
  {
   "cell_type": "markdown",
   "id": "52861861",
   "metadata": {},
   "source": [
    "## Selecting team that face each other : teamA v teamB\n",
    "----"
   ]
  },
  {
   "cell_type": "code",
   "execution_count": 145,
   "id": "d04bb647",
   "metadata": {},
   "outputs": [
    {
     "name": "stdout",
     "output_type": "stream",
     "text": [
      "+------------+\n",
      "|    fullName|\n",
      "+------------+\n",
      "|South Africa|\n",
      "|   Australia|\n",
      "| New Zealand|\n",
      "| New Zealand|\n",
      "| New Zealand|\n",
      "| New Zealand|\n",
      "|   Australia|\n",
      "| New Zealand|\n",
      "|South Africa|\n",
      "|   Australia|\n",
      "|South Africa|\n",
      "|   Australia|\n",
      "|South Africa|\n",
      "|   Australia|\n",
      "| New Zealand|\n",
      "|   Australia|\n",
      "|South Africa|\n",
      "| New Zealand|\n",
      "|South Africa|\n",
      "|   Australia|\n",
      "+------------+\n",
      "only showing top 20 rows\n",
      "\n",
      "+-----------+\n",
      "|   fullName|\n",
      "+-----------+\n",
      "|  Sri Lanka|\n",
      "|      India|\n",
      "|   Pakistan|\n",
      "|   Pakistan|\n",
      "|   Pakistan|\n",
      "|   Pakistan|\n",
      "|      India|\n",
      "|West Indies|\n",
      "|    England|\n",
      "|      India|\n",
      "|    England|\n",
      "|      India|\n",
      "|    England|\n",
      "|      India|\n",
      "|West Indies|\n",
      "|      India|\n",
      "|    England|\n",
      "|West Indies|\n",
      "|    England|\n",
      "|      India|\n",
      "+-----------+\n",
      "only showing top 20 rows\n",
      "\n"
     ]
    }
   ],
   "source": [
    "teamA= df.select(\"scheduleEntry.team1.team.fullName\")\n",
    "teamA= teamA.dropna()\n",
    "teamB= df.select(\"scheduleEntry.team2.team.fullName\")\n",
    "teamB= teamB.dropna()\n",
    "\n",
    "teamA.show()\n",
    "teamB.show()"
   ]
  },
  {
   "cell_type": "markdown",
   "id": "3b3abaa7",
   "metadata": {},
   "source": [
    "## Creating a grouped dataframe of the number of occurences in the list above :\n",
    "-----"
   ]
  },
  {
   "cell_type": "code",
   "execution_count": 146,
   "id": "c8f95c2f",
   "metadata": {},
   "outputs": [
    {
     "name": "stdout",
     "output_type": "stream",
     "text": [
      "+--------------------+------+\n",
      "|            fullName|countA|\n",
      "+--------------------+------+\n",
      "|            Uva Next|     1|\n",
      "|  Pakistan Under 19s|    21|\n",
      "|       BCB Select XI|     3|\n",
      "|              Sweden|     9|\n",
      "|   Nigeria Under 19s|     7|\n",
      "| Singapore Under 19s|     4|\n",
      "|  Maldives Under 19s|     1|\n",
      "|           Hampshire|     1|\n",
      "|              Jersey|    25|\n",
      "|         Philippines|     9|\n",
      "|    Norway Under 19s|     2|\n",
      "| Sunrisers Hyderabad|     3|\n",
      "|           Singapore|    33|\n",
      "|            Malaysia|    46|\n",
      "|                Fiji|     8|\n",
      "|Afghanistan Under...|    17|\n",
      "|              Malawi|    10|\n",
      "|  Scotland Under 19s|     9|\n",
      "|Bangladesh Under 19s|    20|\n",
      "|             Germany|    11|\n",
      "+--------------------+------+\n",
      "only showing top 20 rows\n",
      "\n",
      "+--------------------+------+\n",
      "|            fullName|countB|\n",
      "+--------------------+------+\n",
      "|            Uva Next|     1|\n",
      "|  Pakistan Under 19s|    11|\n",
      "|              Sweden|     6|\n",
      "|   Nigeria Under 19s|    11|\n",
      "| Singapore Under 19s|    13|\n",
      "|  Maldives Under 19s|     3|\n",
      "|           Hampshire|     1|\n",
      "|              Jersey|    46|\n",
      "|         Philippines|     6|\n",
      "|    Norway Under 19s|     3|\n",
      "|            Malaysia|    28|\n",
      "|           Singapore|    26|\n",
      "|                Fiji|     8|\n",
      "|            World XI|     4|\n",
      "|              Turkey|     4|\n",
      "|Afghanistan Under...|    21|\n",
      "|              Malawi|     3|\n",
      "|  Scotland Under 19s|    26|\n",
      "|             Germany|    21|\n",
      "|Bangladesh Under 19s|    12|\n",
      "+--------------------+------+\n",
      "only showing top 20 rows\n",
      "\n"
     ]
    }
   ],
   "source": [
    "gdfa = teamA.groupBy('fullName').count()\n",
    "gdfa=gdfa.withColumnRenamed(\"count\",\"countA\")\n",
    "\n",
    "gdfb = teamB.groupBy('fullName').count()\n",
    "gdfb=gdfb.withColumnRenamed(\"count\",\"countB\")\n",
    "\n",
    "gdfa.show()\n",
    "gdfb.show()"
   ]
  },
  {
   "cell_type": "markdown",
   "id": "77bf4913",
   "metadata": {},
   "source": [
    "## Merging count column from the grouped dataframes to get the total count of matches played by each country :\n",
    "----"
   ]
  },
  {
   "cell_type": "code",
   "execution_count": 147,
   "id": "ff582939",
   "metadata": {},
   "outputs": [
    {
     "name": "stdout",
     "output_type": "stream",
     "text": [
      "+--------------------+------------------------+\n",
      "|            fullName|Number of Matches played|\n",
      "+--------------------+------------------------+\n",
      "|         Afghanistan|                     207|\n",
      "|Afghanistan Under...|                      38|\n",
      "|           Argentina|                      15|\n",
      "| Argentina Under 19s|                       4|\n",
      "|       Auckland Aces|                    null|\n",
      "|           Australia|                     439|\n",
      "| Australia Under 19s|                      24|\n",
      "|             Austria|                      15|\n",
      "|       BCB Select XI|                    null|\n",
      "|             Bahrain|                      25|\n",
      "|   Bahrain Under 19s|                       9|\n",
      "|          Bangladesh|                     275|\n",
      "|Bangladesh Under 19s|                      32|\n",
      "|             Belgium|                      17|\n",
      "|   Belgium Under 19s|                       5|\n",
      "|              Belize|                       9|\n",
      "|             Bermuda|                      45|\n",
      "|   Bermuda Under 19s|                       8|\n",
      "|              Bhutan|                      12|\n",
      "|    Bhutan Under 19s|                       4|\n",
      "+--------------------+------------------------+\n",
      "only showing top 20 rows\n",
      "\n"
     ]
    }
   ],
   "source": [
    "finaldf = gdfb.join(gdfa,\"fullName\",'outer')\n",
    "\n",
    "finaldf = finaldf.withColumn('Number of Matches played',finaldf.countB + finaldf.countA)\n",
    "\n",
    "finaldf = finaldf.drop('countA')\n",
    "\n",
    "finaldf = finaldf.drop('countB')\n",
    "\n",
    "finaldf.show()\n"
   ]
  },
  {
   "cell_type": "markdown",
   "id": "8b77707d",
   "metadata": {},
   "source": [
    "## Finding out the country which played most number of matches:\n",
    "---"
   ]
  },
  {
   "cell_type": "code",
   "execution_count": 148,
   "id": "8ca5aef2",
   "metadata": {},
   "outputs": [
    {
     "name": "stdout",
     "output_type": "stream",
     "text": [
      "+--------------------+------------------------+\n",
      "|            fullName|Number of Matches played|\n",
      "+--------------------+------------------------+\n",
      "|               India|                     463|\n",
      "|             England|                     443|\n",
      "|           Australia|                     439|\n",
      "|           Sri Lanka|                     432|\n",
      "|            Pakistan|                     425|\n",
      "|         New Zealand|                     399|\n",
      "|         West Indies|                     381|\n",
      "|        South Africa|                     376|\n",
      "|            Zimbabwe|                     276|\n",
      "|          Bangladesh|                     275|\n",
      "|             Ireland|                     240|\n",
      "|         Afghanistan|                     207|\n",
      "|United Arab Emirates|                     173|\n",
      "|            Scotland|                     163|\n",
      "|         Netherlands|                     158|\n",
      "|           Hong Kong|                     133|\n",
      "|             Namibia|                     120|\n",
      "|               Kenya|                     120|\n",
      "|               Nepal|                     115|\n",
      "|    Papua New Guinea|                     107|\n",
      "+--------------------+------------------------+\n",
      "only showing top 20 rows\n",
      "\n"
     ]
    }
   ],
   "source": [
    "result = finaldf.orderBy('Number of Matches played', ascending=False)\n",
    "\n",
    "result.show()\n"
   ]
  },
  {
   "cell_type": "markdown",
   "id": "cd3c0710",
   "metadata": {},
   "source": [
    "# Result :\n",
    "---"
   ]
  },
  {
   "cell_type": "code",
   "execution_count": 139,
   "id": "b08fed7a",
   "metadata": {},
   "outputs": [
    {
     "name": "stdout",
     "output_type": "stream",
     "text": [
      "The most number of matches were played by India : 463\n"
     ]
    }
   ],
   "source": [
    "print('The most number of matches were played by {}'.format(result.collect()[0][0]),':',result.collect()[0][1])"
   ]
  }
 ],
 "metadata": {
  "kernelspec": {
   "display_name": "Python 3 (ipykernel)",
   "language": "python",
   "name": "python3"
  },
  "language_info": {
   "codemirror_mode": {
    "name": "ipython",
    "version": 3
   },
   "file_extension": ".py",
   "mimetype": "text/x-python",
   "name": "python",
   "nbconvert_exporter": "python",
   "pygments_lexer": "ipython3",
   "version": "3.9.13"
  }
 },
 "nbformat": 4,
 "nbformat_minor": 5
}
