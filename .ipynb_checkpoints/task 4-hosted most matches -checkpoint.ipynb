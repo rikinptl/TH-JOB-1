{
 "cells": [
  {
   "cell_type": "markdown",
   "id": "b0bf2c29",
   "metadata": {},
   "source": [
    "## Importing the neessary libraries and loading the dataset:\n",
    "--"
   ]
  },
  {
   "cell_type": "code",
   "execution_count": 23,
   "id": "0caef761",
   "metadata": {},
   "outputs": [
    {
     "name": "stdout",
     "output_type": "stream",
     "text": [
      "23/01/19 12:17:26 WARN SparkSession: Using an existing Spark session; only runtime SQL configurations will take effect.\n"
     ]
    }
   ],
   "source": [
    "from pyspark.sql import SparkSession\n",
    "from pyspark.sql.functions import *\n",
    "import warnings\n",
    "warnings.filterwarnings('ignore')\n",
    "\n",
    "#   Initialize the Spark session\n",
    "spark = SparkSession.builder \\\n",
    "    .master(\"local\") \\\n",
    "    .appName(\"Exercise4\") \\\n",
    "    .getOrCreate()\n",
    "\n",
    "df = spark.read.format('org.apache.spark.sql.json') \\\n",
    "        .load(\"icc_results.json\")"
   ]
  },
  {
   "cell_type": "markdown",
   "id": "ec39d9ea",
   "metadata": {},
   "source": [
    "## Performing the groupby function and sorting the dataframe in descending order to get the country that hosted most matches :\n",
    "---"
   ]
  },
  {
   "cell_type": "code",
   "execution_count": 27,
   "id": "afe9bb58",
   "metadata": {},
   "outputs": [
    {
     "name": "stdout",
     "output_type": "stream",
     "text": [
      "+----------------+-----+\n",
      "|         country|count|\n",
      "+----------------+-----+\n",
      "|         England|  383|\n",
      "|             UAE|  371|\n",
      "|    South Africa|  353|\n",
      "|           India|  317|\n",
      "|     New Zealand|  287|\n",
      "|      Bangladesh|  240|\n",
      "|       Australia|  213|\n",
      "|     West Indies|  195|\n",
      "|        Malaysia|  180|\n",
      "|       Sri Lanka|  167|\n",
      "|        Zimbabwe|  154|\n",
      "|     Netherlands|  127|\n",
      "|         Namibia|   91|\n",
      "|            Oman|   78|\n",
      "|        Scotland|   68|\n",
      "|Northern Ireland|   59|\n",
      "|        Pakistan|   58|\n",
      "|         Ireland|   57|\n",
      "|        Thailand|   55|\n",
      "|          Jersey|   48|\n",
      "+----------------+-----+\n",
      "only showing top 20 rows\n",
      "\n"
     ]
    }
   ],
   "source": [
    "venue=df.select('scheduleentry.venue.country')\n",
    "gdf_venue= venue.groupBy('country').count().sort(desc('count'))\n",
    "gdf_venue.show()"
   ]
  },
  {
   "cell_type": "code",
   "execution_count": 25,
   "id": "a500345f",
   "metadata": {},
   "outputs": [
    {
     "name": "stdout",
     "output_type": "stream",
     "text": [
      "The country to host the most number of matches was England : 383\n"
     ]
    }
   ],
   "source": [
    "print('The country to host the most number of matches was {}'.format(gdf_venue.collect()[0][0]),':',gdf_venue.collect()[0][1])"
   ]
  }
 ],
 "metadata": {
  "kernelspec": {
   "display_name": "Python 3 (ipykernel)",
   "language": "python",
   "name": "python3"
  },
  "language_info": {
   "codemirror_mode": {
    "name": "ipython",
    "version": 3
   },
   "file_extension": ".py",
   "mimetype": "text/x-python",
   "name": "python",
   "nbconvert_exporter": "python",
   "pygments_lexer": "ipython3",
   "version": "3.9.13"
  }
 },
 "nbformat": 4,
 "nbformat_minor": 5
}
