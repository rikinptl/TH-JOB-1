{
 "cells": [
  {
   "cell_type": "markdown",
   "id": "0c0092e6",
   "metadata": {},
   "source": [
    "## Importing necessary libraries, Initializing the spark session and Loading the dataset :\n",
    "----"
   ]
  },
  {
   "cell_type": "code",
   "execution_count": 64,
   "id": "725c8206-c511-43fa-9bcc-96b3b189e211",
   "metadata": {},
   "outputs": [],
   "source": [
    "from pyspark.sql import functions as F\n",
    "\n",
    "from pyspark.sql import SparkSession\n",
    "from pyspark.sql.functions import monotonically_increasing_id as mi\n",
    "from pyspark.sql.functions import *\n",
    "import warnings\n",
    "warnings.filterwarnings('ignore')\n",
    "\n",
    "#   Initialize the Spark session\n",
    "spark = SparkSession.builder \\\n",
    "    .master(\"local\") \\\n",
    "    .appName(\"Exercise2\") \\\n",
    "    .getOrCreate()\n",
    "\n",
    "df = spark.read.format('org.apache.spark.sql.json') \\\n",
    "        .load(\"icc_results.json\")"
   ]
  },
  {
   "cell_type": "markdown",
   "id": "2dbdc3d2",
   "metadata": {},
   "source": [
    "## Creating a tally of matches won by each team and finding team that won the most number of matches :\n",
    "----"
   ]
  },
  {
   "cell_type": "code",
   "execution_count": 82,
   "id": "f200d428",
   "metadata": {},
   "outputs": [
    {
     "name": "stdout",
     "output_type": "stream",
     "text": [
      "+------------+-----+\n",
      "|Winning Team|count|\n",
      "+------------+-----+\n",
      "|       India|  279|\n",
      "|   Australia|  242|\n",
      "|     England|  231|\n",
      "+------------+-----+\n",
      "only showing top 3 rows\n",
      "\n",
      "The most number of matches were won by India : 279\n"
     ]
    }
   ],
   "source": [
    "matchoutcome = df.withColumn(\"A\", col(\"scheduleentry.team1.team.fullName\"))\\\n",
    "                    .withColumn(\"B\", col(\"scheduleentry.team2.team.fullName\"))\n",
    "\n",
    "matchoutcome = matchoutcome.select('scheduleentry.matchStatus.outcome','A','B').dropna()\n",
    "matchoutcome = matchoutcome.filter((matchoutcome.outcome !='N') & (matchoutcome.outcome !='D'))\n",
    "\n",
    "matchoutcome = matchoutcome.withColumn('Winning Team', when(col('outcome')=='A', matchoutcome.A)\\\n",
    "                                                        .when(col('outcome')=='B',matchoutcome.B))\\\n",
    "                                                        .select('Winning Team')\\\n",
    "                                                        .groupBy('Winning Team').count()\\\n",
    "                                                        .orderBy(['count'], ascending = [False])\n",
    "                                                        \n",
    "matchoutcome.show(3)\n",
    "print('The most number of matches were won by {}'.format(matchoutcome.collect()[0][0]),':',matchoutcome.collect()[0][1])"
   ]
  },
  {
   "cell_type": "code",
   "execution_count": null,
   "id": "66c853ca",
   "metadata": {},
   "outputs": [],
   "source": []
  }
 ],
 "metadata": {
  "kernelspec": {
   "display_name": "Python 3 (ipykernel)",
   "language": "python",
   "name": "python3"
  },
  "language_info": {
   "codemirror_mode": {
    "name": "ipython",
    "version": 3
   },
   "file_extension": ".py",
   "mimetype": "text/x-python",
   "name": "python",
   "nbconvert_exporter": "python",
   "pygments_lexer": "ipython3",
   "version": "3.9.13"
  }
 },
 "nbformat": 4,
 "nbformat_minor": 5
}
