{
 "cells": [
  {
   "cell_type": "markdown",
   "id": "abb4499f",
   "metadata": {},
   "source": [
    "## Importing the necesssary libraries and loading the dataset:\n",
    "---"
   ]
  },
  {
   "cell_type": "code",
   "execution_count": 1,
   "id": "e84cfb9c",
   "metadata": {},
   "outputs": [
    {
     "name": "stderr",
     "output_type": "stream",
     "text": [
      "Setting default log level to \"WARN\".\n",
      "To adjust logging level use sc.setLogLevel(newLevel). For SparkR, use setLogLevel(newLevel).\n"
     ]
    },
    {
     "name": "stdout",
     "output_type": "stream",
     "text": [
      "23/01/24 14:57:55 WARN NativeCodeLoader: Unable to load native-hadoop library for your platform... using builtin-java classes where applicable\n"
     ]
    },
    {
     "name": "stderr",
     "output_type": "stream",
     "text": [
      "                                                                                \r"
     ]
    }
   ],
   "source": [
    "from pyspark.sql import SparkSession\n",
    "from pyspark.sql.functions import *\n",
    "import warnings\n",
    "warnings.filterwarnings('ignore')\n",
    "\n",
    "#   Initialize the Spark session\n",
    "spark = SparkSession.builder \\\n",
    "    .master(\"local\") \\\n",
    "    .appName(\"Exercise3\") \\\n",
    "    .getOrCreate()\n",
    "\n",
    "df = spark.read.format('org.apache.spark.sql.json') \\\n",
    "        .load(\"icc_results.json\")"
   ]
  },
  {
   "cell_type": "markdown",
   "id": "f0845e70",
   "metadata": {},
   "source": [
    "## Finding number of test and odi played each year :\n",
    "---"
   ]
  },
  {
   "cell_type": "code",
   "execution_count": 54,
   "id": "a10baf62",
   "metadata": {},
   "outputs": [
    {
     "name": "stdout",
     "output_type": "stream",
     "text": [
      "+----+----+-----+\n",
      "|Year|Mode|count|\n",
      "+----+----+-----+\n",
      "|2020|Test|   27|\n",
      "|2019|Test|   39|\n",
      "|2014|Test|   41|\n",
      "|2016|Test|   47|\n",
      "|2017|Test|   49|\n",
      "|2013|Test|   37|\n",
      "|2018|Test|   48|\n",
      "|2012|Test|    9|\n",
      "|2015|Test|   45|\n",
      "|2014| ODI|   88|\n",
      "|2020| ODI|   56|\n",
      "|2015| ODI|   89|\n",
      "|2012| ODI|    1|\n",
      "|2019| ODI|   83|\n",
      "|2013| ODI|   94|\n",
      "|2017| ODI|  108|\n",
      "|2018| ODI|   78|\n",
      "|2016| ODI|   80|\n",
      "+----+----+-----+\n",
      "\n"
     ]
    }
   ],
   "source": [
    "matches = df.withColumn(\"mode\", col(\"scheduleentry.description\"))\\\n",
    "                    .withColumn(\"year\", col(\"scheduleentry.matchDate\"))\\\n",
    "                    .select('mode','year').dropna()\n",
    "\n",
    "\n",
    "\n",
    "matches = matches.withColumn('Mode', split(matches['mode'], ' ').getItem(1)).dropna()\\\n",
    "                 .withColumn('Year', year(matches.year)).dropna()\n",
    "\n",
    "matches = matches.filter((matches.Mode == 'Test') | (matches.Mode == 'ODI')) #filtering t20I\n",
    "\n",
    "matches = matches.groupBy(\"Year\",\"Mode\").count()\\\n",
    "                 .orderBy(['Mode'],ascending=False)\n",
    "\n",
    "matches.show()\n"
   ]
  },
  {
   "cell_type": "code",
   "execution_count": 47,
   "id": "d35cc542",
   "metadata": {},
   "outputs": [
    {
     "name": "stdout",
     "output_type": "stream",
     "text": [
      "+----+\n",
      "|Year|\n",
      "+----+\n",
      "|2020|\n",
      "|2019|\n",
      "|2018|\n",
      "|2017|\n",
      "|2016|\n",
      "|2015|\n",
      "|2014|\n",
      "|2013|\n",
      "|2012|\n",
      "+----+\n",
      "\n"
     ]
    }
   ],
   "source": [
    "distinct_years = matches.drop_duplicates(subset = ['Year']).drop('Mode','count').orderBy(['Year'],ascending=False)\n",
    "distinct_years.show()"
   ]
  },
  {
   "cell_type": "code",
   "execution_count": 59,
   "id": "40c81fc3",
   "metadata": {},
   "outputs": [
    {
     "ename": "TypeError",
     "evalue": "'DataFrame' object is not callable",
     "output_type": "error",
     "traceback": [
      "\u001b[0;31m---------------------------------------------------------------------------\u001b[0m",
      "\u001b[0;31mTypeError\u001b[0m                                 Traceback (most recent call last)",
      "\u001b[0;32m/var/folders/m_/m5bgygzd2b3_37l93h1w889c0000gn/T/ipykernel_4586/3373714277.py\u001b[0m in \u001b[0;36m<module>\u001b[0;34m\u001b[0m\n\u001b[0;32m----> 1\u001b[0;31m \u001b[0mfinaldf\u001b[0m \u001b[0;34m=\u001b[0m \u001b[0mdistinct_years\u001b[0m\u001b[0;34m.\u001b[0m\u001b[0mwithColumn\u001b[0m\u001b[0;34m(\u001b[0m\u001b[0;34m'TESTS'\u001b[0m\u001b[0;34m,\u001b[0m\u001b[0mmatches\u001b[0m\u001b[0;34m(\u001b[0m\u001b[0;34m\"count\"\u001b[0m\u001b[0;34m)\u001b[0m\u001b[0;34m.\u001b[0m\u001b[0mcollect\u001b[0m\u001b[0;34m(\u001b[0m\u001b[0;36m10\u001b[0m\u001b[0;34m)\u001b[0m\u001b[0;34m)\u001b[0m\u001b[0;34m.\u001b[0m\u001b[0mshow\u001b[0m\u001b[0;34m(\u001b[0m\u001b[0;34m)\u001b[0m\u001b[0;34m\u001b[0m\u001b[0;34m\u001b[0m\u001b[0m\n\u001b[0m",
      "\u001b[0;31mTypeError\u001b[0m: 'DataFrame' object is not callable"
     ]
    }
   ],
   "source": [
    "finaldf = distinct_years.withColumn('TESTS',matches(\"count\").collect(10)).show()"
   ]
  },
  {
   "cell_type": "code",
   "execution_count": null,
   "id": "514f37ad",
   "metadata": {},
   "outputs": [],
   "source": []
  }
 ],
 "metadata": {
  "kernelspec": {
   "display_name": "Python 3 (ipykernel)",
   "language": "python",
   "name": "python3"
  },
  "language_info": {
   "codemirror_mode": {
    "name": "ipython",
    "version": 3
   },
   "file_extension": ".py",
   "mimetype": "text/x-python",
   "name": "python",
   "nbconvert_exporter": "python",
   "pygments_lexer": "ipython3",
   "version": "3.9.13"
  }
 },
 "nbformat": 4,
 "nbformat_minor": 5
}
