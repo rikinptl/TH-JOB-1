{
 "cells": [
  {
   "cell_type": "markdown",
   "id": "abb4499f",
   "metadata": {},
   "source": [
    "## Importing the necesssary libraries and loading the dataset:\n",
    "---"
   ]
  },
  {
   "cell_type": "code",
   "execution_count": 1,
   "id": "e84cfb9c",
   "metadata": {},
   "outputs": [
    {
     "name": "stderr",
     "output_type": "stream",
     "text": [
      "Setting default log level to \"WARN\".\n",
      "To adjust logging level use sc.setLogLevel(newLevel). For SparkR, use setLogLevel(newLevel).\n"
     ]
    },
    {
     "name": "stdout",
     "output_type": "stream",
     "text": [
      "23/01/24 14:57:55 WARN NativeCodeLoader: Unable to load native-hadoop library for your platform... using builtin-java classes where applicable\n"
     ]
    },
    {
     "name": "stderr",
     "output_type": "stream",
     "text": [
      "                                                                                \r"
     ]
    }
   ],
   "source": [
    "from pyspark.sql import SparkSession\n",
    "from pyspark.sql.functions import *\n",
    "import warnings\n",
    "warnings.filterwarnings('ignore')\n",
    "\n",
    "#   Initialize the Spark session\n",
    "spark = SparkSession.builder \\\n",
    "    .master(\"local\") \\\n",
    "    .appName(\"Exercise3\") \\\n",
    "    .getOrCreate()\n",
    "\n",
    "df = spark.read.format('org.apache.spark.sql.json') \\\n",
    "        .load(\"icc_results.json\")"
   ]
  },
  {
   "cell_type": "markdown",
   "id": "f0845e70",
   "metadata": {},
   "source": [
    "## Finding number of test and odi played each year :\n",
    "---"
   ]
  },
  {
   "cell_type": "code",
   "execution_count": 69,
   "id": "a10baf62",
   "metadata": {},
   "outputs": [
    {
     "name": "stdout",
     "output_type": "stream",
     "text": [
      "+----+---+----+\n",
      "|Year|ODI|Test|\n",
      "+----+---+----+\n",
      "|2014| 88|  41|\n",
      "|2020| 56|  27|\n",
      "|2017|108|  49|\n",
      "|2015| 89|  45|\n",
      "|2016| 80|  47|\n",
      "|2012|  1|   9|\n",
      "|2013| 94|  37|\n",
      "|2019| 83|  39|\n",
      "|2018| 78|  48|\n",
      "+----+---+----+\n",
      "\n"
     ]
    }
   ],
   "source": [
    "matches = df.withColumn(\"mode\", col(\"scheduleentry.description\"))\\\n",
    "                    .withColumn(\"year\", col(\"scheduleentry.matchDate\"))\\\n",
    "                    .select('mode','year').dropna()\n",
    "\n",
    "\n",
    "\n",
    "matches = matches.withColumn('Mode', split(matches['mode'], ' ').getItem(1)).dropna()\\\n",
    "                 .withColumn('Year', year(matches.year)).dropna()\n",
    "\n",
    "matches = matches.filter((matches.Mode == 'Test') | (matches.Mode == 'ODI')) #filtering t20I\n",
    "\n",
    "matches = matches.crosstab('Year','Mode')\\\n",
    "                 .withColumnRenamed('Year_Mode', 'Year').show()\n"
   ]
  }
 ],
 "metadata": {
  "kernelspec": {
   "display_name": "Python 3 (ipykernel)",
   "language": "python",
   "name": "python3"
  },
  "language_info": {
   "codemirror_mode": {
    "name": "ipython",
    "version": 3
   },
   "file_extension": ".py",
   "mimetype": "text/x-python",
   "name": "python",
   "nbconvert_exporter": "python",
   "pygments_lexer": "ipython3",
   "version": "3.9.13"
  }
 },
 "nbformat": 4,
 "nbformat_minor": 5
}
