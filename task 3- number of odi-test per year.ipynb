{
 "cells": [
  {
   "cell_type": "markdown",
   "id": "abb4499f",
   "metadata": {},
   "source": [
    "## Importing the necesssary libraries and loading the dataset:\n",
    "---"
   ]
  },
  {
   "cell_type": "code",
   "execution_count": 1,
   "id": "e84cfb9c",
   "metadata": {},
   "outputs": [
    {
     "name": "stderr",
     "output_type": "stream",
     "text": [
      "Setting default log level to \"WARN\".\n",
      "To adjust logging level use sc.setLogLevel(newLevel). For SparkR, use setLogLevel(newLevel).\n"
     ]
    },
    {
     "name": "stdout",
     "output_type": "stream",
     "text": [
      "23/01/24 10:00:09 WARN NativeCodeLoader: Unable to load native-hadoop library for your platform... using builtin-java classes where applicable\n"
     ]
    },
    {
     "name": "stderr",
     "output_type": "stream",
     "text": [
      "                                                                                \r"
     ]
    }
   ],
   "source": [
    "from pyspark.sql import SparkSession\n",
    "from pyspark.sql.functions import *\n",
    "import warnings\n",
    "warnings.filterwarnings('ignore')\n",
    "\n",
    "#   Initialize the Spark session\n",
    "spark = SparkSession.builder \\\n",
    "    .master(\"local\") \\\n",
    "    .appName(\"Exercise3\") \\\n",
    "    .getOrCreate()\n",
    "\n",
    "df = spark.read.format('org.apache.spark.sql.json') \\\n",
    "        .load(\"icc_results.json\")"
   ]
  },
  {
   "cell_type": "markdown",
   "id": "f0845e70",
   "metadata": {},
   "source": [
    "## Finding number of test and odi played each year :\n",
    "---"
   ]
  },
  {
   "cell_type": "code",
   "execution_count": 54,
   "id": "a10baf62",
   "metadata": {},
   "outputs": [
    {
     "name": "stdout",
     "output_type": "stream",
     "text": [
      "+----+----+-----+\n",
      "|Mode|Year|count|\n",
      "+----+----+-----+\n",
      "|Test|  05|   11|\n",
      "|Test|  11|   48|\n",
      "|Test|  10|   31|\n",
      "|Test|  12|   55|\n",
      "|Test|  03|   24|\n",
      "|Test|  04|    6|\n",
      "|Test|  09|   14|\n",
      "|Test|  02|   25|\n",
      "|Test|  07|   32|\n",
      "|Test|  06|   18|\n",
      "|Test|  08|   42|\n",
      "|Test|  01|   36|\n",
      "| ODI|  01|  104|\n",
      "| ODI|  09|   42|\n",
      "| ODI|  07|   66|\n",
      "| ODI|  04|   16|\n",
      "| ODI|  03|   55|\n",
      "| ODI|  06|   43|\n",
      "| ODI|  11|   60|\n",
      "| ODI|  05|   37|\n",
      "+----+----+-----+\n",
      "only showing top 20 rows\n",
      "\n"
     ]
    }
   ],
   "source": [
    "matches = df.withColumn(\"mode\", col(\"scheduleentry.description\"))\\\n",
    "                    .withColumn(\"year\", col(\"scheduleentry.matchDate\"))\\\n",
    "                    .select('mode','year').dropna()\n",
    "\n",
    "\n",
    "\n",
    "matches = matches.withColumn('Mode', split(matches['mode'], ' ').getItem(1)).dropna()\\\n",
    "             .withColumn('Year', split(matches['year'], '-').getItem(1)).dropna()\n",
    "\n",
    "matches = matches.filter((matches.Mode == 'Test') | (matches.Mode == 'ODI')) #filtering t20I\n",
    "\n",
    "matches = matches.groupBy(\"Mode\",\"Year\").count()\\\n",
    "                 .orderBy(['Mode'],ascending=False).show()"
   ]
  },
  {
   "cell_type": "code",
   "execution_count": null,
   "id": "a6c14521",
   "metadata": {},
   "outputs": [],
   "source": []
  }
 ],
 "metadata": {
  "kernelspec": {
   "display_name": "Python 3 (ipykernel)",
   "language": "python",
   "name": "python3"
  },
  "language_info": {
   "codemirror_mode": {
    "name": "ipython",
    "version": 3
   },
   "file_extension": ".py",
   "mimetype": "text/x-python",
   "name": "python",
   "nbconvert_exporter": "python",
   "pygments_lexer": "ipython3",
   "version": "3.9.13"
  }
 },
 "nbformat": 4,
 "nbformat_minor": 5
}
